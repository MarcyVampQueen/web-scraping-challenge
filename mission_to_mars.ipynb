{
 "metadata": {
  "language_info": {
   "codemirror_mode": {
    "name": "ipython",
    "version": 3
   },
   "file_extension": ".py",
   "mimetype": "text/x-python",
   "name": "python",
   "nbconvert_exporter": "python",
   "pygments_lexer": "ipython3",
   "version": "3.8.3-final"
  },
  "orig_nbformat": 2,
  "kernelspec": {
   "name": "python3",
   "display_name": "Python 3",
   "language": "python"
  }
 },
 "nbformat": 4,
 "nbformat_minor": 2,
 "cells": [
  {
   "cell_type": "code",
   "execution_count": 161,
   "metadata": {},
   "outputs": [],
   "source": [
    "# Import dependencies\n",
    "from bs4 import BeautifulSoup\n",
    "from splinter import Browser\n",
    "import time\n",
    "import pandas as pd"
   ]
  },
  {
   "cell_type": "code",
   "execution_count": 162,
   "metadata": {},
   "outputs": [],
   "source": [
    "# Setup browser\n",
    "executable_path = {'executable_path': '/usr/local/bin/chromedriver'}\n",
    "browser = Browser('chrome', **executable_path, headless=False)\n",
    "\n",
    "# Get the webpage for scraping articles and pass to Soup\n",
    "browser.visit(\"https://mars.nasa.gov/news\")\n",
    "time.sleep(2)\n",
    "soup = BeautifulSoup(browser.html, 'html.parser')"
   ]
  },
  {
   "cell_type": "code",
   "execution_count": 163,
   "metadata": {},
   "outputs": [],
   "source": [
    "# Get the first article on the page\n",
    "news_title = soup.find_all('div', class_='content_title')[1].text\n",
    "news_p = soup.find_all('div', class_='article_teaser_body')[0].text"
   ]
  },
  {
   "cell_type": "code",
   "execution_count": 164,
   "metadata": {},
   "outputs": [],
   "source": [
    "# Visit the next site for images\n",
    "browser.visit(\"https://www.jpl.nasa.gov/spaceimages/?search=&category=Mars\")\n",
    "time.sleep(2)\n",
    "browser.links.find_by_partial_text('FULL').click()\n",
    "browser.links.find_by_partial_text('more info').click()"
   ]
  },
  {
   "cell_type": "code",
   "execution_count": 165,
   "metadata": {},
   "outputs": [],
   "source": [
    "# Get the featured image\n",
    "soup = BeautifulSoup(browser.html, 'html.parser')\n",
    "featured_image_url = \"https:\" + soup.find_all('div', class_='download_tiff')[1].a['href']"
   ]
  },
  {
   "cell_type": "code",
   "execution_count": 166,
   "metadata": {},
   "outputs": [],
   "source": [
    "# Visit the next site for Mars facts\n",
    "browser.visit(\"https://space-facts.com/mars/\")\n",
    "time.sleep(2)\n",
    "soup = BeautifulSoup(browser.html, 'html.parser')\n",
    "table = soup.find('table', id=\"tablepress-p-mars-no-2\").find_all('tr')\n",
    "\n",
    "mars_info = []\n",
    "for row in table:\n",
    "    info = row.text.split(':')\n",
    "    mars_info.append({\n",
    "        \"Attribute\":info[0],\n",
    "        \"Info\":info[1]\n",
    "    })\n",
    "table_html = pd.DataFrame(mars_info).to_html()"
   ]
  },
  {
   "cell_type": "code",
   "execution_count": 167,
   "metadata": {},
   "outputs": [],
   "source": [
    "# Visit the next site for hemispheres and grab all the links\n",
    "browser.visit(\"https://astrogeology.usgs.gov/search/results?q=hemisphere+enhanced&k1=target&v1=Mars\")\n",
    "time.sleep(1)\n",
    "soup = BeautifulSoup(browser.html,'html.parser')\n",
    "links = soup.find_all('a', class_=\"itemLink product-item\")\n",
    "\n",
    "# Visit all of the links, collecting images along the way (every other link is an image, so skip it)\n",
    "images = []\n",
    "for page in links[1::2]:\n",
    "    browser.visit(\"https://astrogeology.usgs.gov/\" + page[\"href\"])\n",
    "    time.sleep(2)\n",
    "    soup = BeautifulSoup(browser.html,'html.parser')\n",
    "\n",
    "    images.append({\n",
    "        \"title\":page.h3.text,\n",
    "        \"url\":soup.find('a', text='Original')[\"href\"]\n",
    "    })\n"
   ]
  },
  {
   "cell_type": "code",
   "execution_count": null,
   "metadata": {},
   "outputs": [],
   "source": []
  }
 ]
}